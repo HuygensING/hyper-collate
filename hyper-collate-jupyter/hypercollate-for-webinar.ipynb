{
 "cells": [
  {
   "cell_type": "markdown",
   "metadata": {
    "slideshow": {
     "slide_type": "slide"
    }
   },
   "source": [
    "# HyperCollate for nonlinear text\n",
    "Notebook created for the Huygens ING webinar, November 4th, 2020"
   ]
  },
  {
   "cell_type": "code",
   "execution_count": null,
   "metadata": {
    "slideshow": {
     "slide_type": "skip"
    }
   },
   "outputs": [],
   "source": [
    "// First, we install some dependencies\n",
    "@file:Repository(\"http://maven.huygens.knaw.nl/repository/\")\n",
    "@file:DependsOn(\"nl.knaw.huygens:hyper-collate-core:1.3.4-SNAPSHOT\")\n",
    "@file:DependsOn(\"nl.knaw.huygens:hyper-collate-jupyter:1.3.4-SNAPSHOT\")\n",
    "\n",
    "import nl.knaw.huygens.hypercollate.jupyter.*\n",
    "import nl.knaw.huygens.hypercollate.model.*\n",
    "\n",
    "HC.init()\n",
    "fun VariantWitnessGraph.show(colored: Boolean = true, join: Boolean = true, emphasizeWhitespace: Boolean = false) = MIME(this.asSVGPair(colored, join, emphasizeWhitespace))\n",
    "fun CollationGraph.asHTML() = HTML(this.asHTMLString())\n",
    "fun CollationGraph.show(join: Boolean = true, emphasizeWhitespace: Boolean = false) = MIME(this.asSVGPair(join, emphasizeWhitespace))\n",
    "HTML(\"<style>div.output_area pre {white-space: pre;}</style>\")"
   ]
  },
  {
   "cell_type": "markdown",
   "metadata": {
    "slideshow": {
     "slide_type": "slide"
    }
   },
   "source": [
    "### Witnesses"
   ]
  },
  {
   "cell_type": "markdown",
   "metadata": {
    "slideshow": {
     "slide_type": "fragment"
    }
   },
   "source": [
    "#### Witness MS: manuscript\n",
    "<img width=\"500\" height=\"500\" src=\"images/brulez-fragment-manuscript.png\">"
   ]
  },
  {
   "cell_type": "markdown",
   "metadata": {
    "slideshow": {
     "slide_type": "fragment"
    }
   },
   "source": [
    "<img width=\"500\" height=\"500\" src=\"images/brulez-transcript-ms.png\">"
   ]
  },
  {
   "cell_type": "markdown",
   "metadata": {
    "slideshow": {
     "slide_type": "subslide"
    }
   },
   "source": [
    "#### Witness TS: typescript\n",
    "<img width=\"500\" height=\"500\" src=\"images/brulez-fragment-typoscript.png\">"
   ]
  },
  {
   "cell_type": "markdown",
   "metadata": {
    "slideshow": {
     "slide_type": "fragment"
    }
   },
   "source": [
    "<img width=\"500\" height=\"500\" src=\"images/brulez-transcript-ts.png\">"
   ]
  },
  {
   "cell_type": "markdown",
   "metadata": {
    "slideshow": {
     "slide_type": "subslide"
    }
   },
   "source": [
    "### Revision layers\n",
    "\n",
    "**Witness MS**\n",
    "1. Het was heerlijk zich aldus eens te laten beleedigen\n",
    "2. Het <del>was heerlijk</del> zich aldus eens te laten beleedigen\n",
    "3. Het zalig zich aldus eens te laten beleedigen\n",
    "\n",
    "**Witness TS**\n",
    "1. Zalig was het zich aldus te laten beleedigen\n",
    "2. Zalig was het <del>zich aldus te laten beleedigen</del>\n",
    "3. Zalig was het in die stortbui van beleedigingen te staan; heerlijk om ..."
   ]
  },
  {
   "cell_type": "code",
   "execution_count": null,
   "metadata": {
    "slideshow": {
     "slide_type": "slide"
    }
   },
   "outputs": [],
   "source": [
    "val wMS = HC.importXMLWitness(\"MS\", \"<tei>Het <subst><del>was heerlijk</del><add>zalig</add></subst> zich aldus eens te laten beleedigen...</tei>\")\n",
    "\n",
    "val wTS = HC.importXMLWitness(\"TS\", \"<tei>Zalig was het <subst><del>zich aldus te laten beleedigen</del><add>in die stortbui van beleedigingen te staan; heerlijk om</add></subst>...</tei>\")"
   ]
  },
  {
   "cell_type": "code",
   "execution_count": null,
   "metadata": {
    "slideshow": {
     "slide_type": "slide"
    }
   },
   "outputs": [],
   "source": [
    "wMS.show(colored=false)"
   ]
  },
  {
   "cell_type": "code",
   "execution_count": null,
   "metadata": {
    "slideshow": {
     "slide_type": "slide"
    }
   },
   "outputs": [],
   "source": [
    "wTS.show()"
   ]
  },
  {
   "cell_type": "code",
   "execution_count": null,
   "metadata": {
    "slideshow": {
     "slide_type": "slide"
    }
   },
   "outputs": [],
   "source": [
    "wMS.show(join=false, colored=false)"
   ]
  },
  {
   "cell_type": "code",
   "execution_count": null,
   "metadata": {
    "slideshow": {
     "slide_type": "slide"
    }
   },
   "outputs": [],
   "source": [
    "val collationGraph = HC.collate(wMS,wTS)"
   ]
  },
  {
   "cell_type": "code",
   "execution_count": null,
   "metadata": {},
   "outputs": [],
   "source": [
    "collationGraph.asASCIITable()"
   ]
  },
  {
   "cell_type": "code",
   "execution_count": null,
   "metadata": {},
   "outputs": [],
   "source": [
    "collationGraph.asHTML()"
   ]
  },
  {
   "cell_type": "code",
   "execution_count": null,
   "metadata": {
    "slideshow": {
     "slide_type": "slide"
    }
   },
   "outputs": [],
   "source": [
    "collationGraph.show()"
   ]
  },
  {
   "cell_type": "code",
   "execution_count": null,
   "metadata": {},
   "outputs": [],
   "source": []
  }
 ],
 "metadata": {
  "celltoolbar": "Slideshow",
  "kernelspec": {
   "display_name": "Kotlin",
   "language": "kotlin",
   "name": "kotlin"
  },
  "language_info": {
   "codemirror_mode": "text/x-kotlin",
   "file_extension": ".kt",
   "mimetype": "text/x-kotlin",
   "name": "kotlin",
   "pygments_lexer": "kotlin",
   "version": "1.4.20-dev-2342"
  }
 },
 "nbformat": 4,
 "nbformat_minor": 4
}
